{
  "nbformat": 4,
  "nbformat_minor": 0,
  "metadata": {
    "colab": {
      "name": "Denoising Auto Encoders.ipynb",
      "provenance": []
    },
    "kernelspec": {
      "name": "python3",
      "display_name": "Python 3"
    },
    "accelerator": "GPU"
  },
  "cells": [
    {
      "cell_type": "code",
      "metadata": {
        "id": "XjY5HR08B1DF",
        "colab_type": "code",
        "colab": {}
      },
      "source": [
        "import numpy as np\n",
        "from tensorflow import keras\n",
        "from tensorflow.keras.datasets import mnist\n",
        "from tensorflow.keras.models import Sequential, Model\n",
        "from tensorflow.keras.layers import Dense, Input, Conv2D, MaxPooling2D, UpSampling2D \n",
        "from tensorflow.keras import optimizers\n",
        "from tensorflow.keras.optimizers import Adam\n",
        "import matplotlib.pyplot as plt"
      ],
      "execution_count": 1,
      "outputs": []
    },
    {
      "cell_type": "code",
      "metadata": {
        "id": "vHxKMeTUB23u",
        "colab_type": "code",
        "colab": {
          "base_uri": "https://localhost:8080/",
          "height": 51
        },
        "outputId": "5a6adb84-9745-4faf-cc8e-1c4d1046887b"
      },
      "source": [
        "(x_train, y_train), (x_test, y_test) = mnist.load_data()\n",
        "x_train = x_train.reshape(60000, 28, 28, 1) / 255\n",
        "x_test = x_test.reshape(10000, 28, 28, 1) / 255"
      ],
      "execution_count": 2,
      "outputs": [
        {
          "output_type": "stream",
          "text": [
            "Downloading data from https://storage.googleapis.com/tensorflow/tf-keras-datasets/mnist.npz\n",
            "11493376/11490434 [==============================] - 0s 0us/step\n"
          ],
          "name": "stdout"
        }
      ]
    },
    {
      "cell_type": "code",
      "metadata": {
        "id": "HcEbWlhTB5Lw",
        "colab_type": "code",
        "colab": {
          "base_uri": "https://localhost:8080/",
          "height": 282
        },
        "outputId": "c1e9cd92-c355-4994-fe7e-f893932a0548"
      },
      "source": [
        "noise_factor = 0.2\n",
        "x_train_noisy = x_train + noise_factor * np.random.normal(loc=0.0, scale=1.0, size=x_train.shape) \n",
        "x_test_noisy = x_test + noise_factor * np.random.normal(loc=0.0, scale=1.0, size=x_test.shape) \n",
        "\n",
        "x_train_noisy = np.clip(x_train_noisy, 0., 1.)\n",
        "x_test_noisy = np.clip(x_test_noisy, 0., 1.)\n",
        "\n",
        "#Print one image to see the noise\n",
        "plt.imshow(x_test_noisy[1].reshape(28, 28))"
      ],
      "execution_count": 21,
      "outputs": [
        {
          "output_type": "execute_result",
          "data": {
            "text/plain": [
              "<matplotlib.image.AxesImage at 0x7f90660530b8>"
            ]
          },
          "metadata": {
            "tags": []
          },
          "execution_count": 21
        },
        {
          "output_type": "display_data",
          "data": {
            "image/png": "[encoded data removed]",
            "text/plain": [
              "<Figure size 432x288 with 1 Axes>"
            ]
          },
          "metadata": {
            "tags": [],
            "needs_background": "light"
          }
        }
      ]
    },
    {
      "cell_type": "code",
      "metadata": {
        "id": "DmA7vwhxB6zP",
        "colab_type": "code",
        "colab": {}
      },
      "source": [
        "input_img = Input(shape=(28, 28, 1))\n",
        "\n",
        "nn = Conv2D(32, (3, 3), activation='relu', padding='same')(input_img)\n",
        "nn = MaxPooling2D((2, 2), padding='same')(nn)\n",
        "nn = Conv2D(32, (3, 3), activation='relu', padding='same')(nn)\n",
        "encoded = MaxPooling2D((2, 2), padding='same')(nn)"
      ],
      "execution_count": 22,
      "outputs": []
    },
    {
      "cell_type": "code",
      "metadata": {
        "id": "LS-ltxPrB9Ez",
        "colab_type": "code",
        "colab": {}
      },
      "source": [
        "nn = Conv2D(32, (3, 3), activation='relu', padding='same')(encoded)\n",
        "nn = UpSampling2D((2, 2))(nn)\n",
        "nn = Conv2D(32, (3, 3), activation='relu', padding='same')(nn)\n",
        "nn = UpSampling2D((2, 2))(nn)\n",
        "decoded = Conv2D(1, (3, 3), activation='sigmoid', padding='same')(nn)"
      ],
      "execution_count": 25,
      "outputs": []
    },
    {
      "cell_type": "code",
      "metadata": {
        "id": "jqgut90uCJVM",
        "colab_type": "code",
        "colab": {
          "base_uri": "https://localhost:8080/",
          "height": 1000
        },
        "outputId": "7ba95d10-a633-4a7f-df82-6682ceadc4d4"
      },
      "source": [
        "autoencoder = Model(input_img, decoded)\n",
        "autoencoder.compile(optimizer='adadelta',loss='binary_crossentropy')\n",
        "autoencoder.fit(x_train_noisy, x_train,\n",
        "                epochs=100,\n",
        "                batch_size=256,\n",
        "                validation_data=(x_test_noisy, x_test))"
      ],
      "execution_count": 32,
      "outputs": [
        {
          "output_type": "stream",
          "text": [
            "Epoch 1/100\n",
            "235/235 [==============================] - 3s 11ms/step - loss: 0.1348 - val_loss: 0.1334\n",
            "Epoch 2/100\n",
            "235/235 [==============================] - 2s 10ms/step - loss: 0.1343 - val_loss: 0.1330\n",
            "Epoch 3/100\n",
            "235/235 [==============================] - 2s 10ms/step - loss: 0.1339 - val_loss: 0.1325\n",
            "Epoch 4/100\n",
            "235/235 [==============================] - 2s 10ms/step - loss: 0.1335 - val_loss: 0.1321\n",
            "Epoch 5/100\n",
            "235/235 [==============================] - 2s 10ms/step - loss: 0.1331 - val_loss: 0.1317\n",
            "Epoch 6/100\n",
            "235/235 [==============================] - 2s 10ms/step - loss: 0.1326 - val_loss: 0.1312\n",
            "Epoch 7/100\n",
            "235/235 [==============================] - 2s 10ms/step - loss: 0.1322 - val_loss: 0.1308\n",
            "Epoch 8/100\n",
            "235/235 [==============================] - 2s 10ms/step - loss: 0.1318 - val_loss: 0.1304\n",
            "Epoch 9/100\n",
            "235/235 [==============================] - 2s 10ms/step - loss: 0.1314 - val_loss: 0.1300\n",
            "Epoch 10/100\n",
            "235/235 [==============================] - 2s 10ms/step - loss: 0.1310 - val_loss: 0.1296\n",
            "Epoch 11/100\n",
            "235/235 [==============================] - 2s 10ms/step - loss: 0.1306 - val_loss: 0.1292\n",
            "Epoch 12/100\n",
            "235/235 [==============================] - 2s 10ms/step - loss: 0.1302 - val_loss: 0.1288\n",
            "Epoch 13/100\n",
            "235/235 [==============================] - 2s 10ms/step - loss: 0.1298 - val_loss: 0.1285\n",
            "Epoch 14/100\n",
            "235/235 [==============================] - 2s 10ms/step - loss: 0.1295 - val_loss: 0.1281\n",
            "Epoch 15/100\n",
            "235/235 [==============================] - 2s 10ms/step - loss: 0.1291 - val_loss: 0.1277\n",
            "Epoch 16/100\n",
            "235/235 [==============================] - 2s 10ms/step - loss: 0.1287 - val_loss: 0.1273\n",
            "Epoch 17/100\n",
            "235/235 [==============================] - 2s 10ms/step - loss: 0.1284 - val_loss: 0.1270\n",
            "Epoch 18/100\n",
            "235/235 [==============================] - 2s 10ms/step - loss: 0.1280 - val_loss: 0.1266\n",
            "Epoch 19/100\n",
            "235/235 [==============================] - 2s 10ms/step - loss: 0.1277 - val_loss: 0.1263\n",
            "Epoch 20/100\n",
            "235/235 [==============================] - 2s 10ms/step - loss: 0.1273 - val_loss: 0.1259\n",
            "Epoch 21/100\n",
            "235/235 [==============================] - 2s 10ms/step - loss: 0.1270 - val_loss: 0.1256\n",
            "Epoch 22/100\n",
            "235/235 [==============================] - 2s 10ms/step - loss: 0.1267 - val_loss: 0.1252\n",
            "Epoch 23/100\n",
            "235/235 [==============================] - 2s 10ms/step - loss: 0.1263 - val_loss: 0.1249\n",
            "Epoch 24/100\n",
            "235/235 [==============================] - 2s 10ms/step - loss: 0.1260 - val_loss: 0.1246\n",
            "Epoch 25/100\n",
            "235/235 [==============================] - 2s 10ms/step - loss: 0.1257 - val_loss: 0.1243\n",
            "Epoch 26/100\n",
            "235/235 [==============================] - 2s 10ms/step - loss: 0.1254 - val_loss: 0.1240\n",
            "Epoch 27/100\n",
            "235/235 [==============================] - 2s 10ms/step - loss: 0.1251 - val_loss: 0.1236\n",
            "Epoch 28/100\n",
            "235/235 [==============================] - 2s 10ms/step - loss: 0.1247 - val_loss: 0.1233\n",
            "Epoch 29/100\n",
            "235/235 [==============================] - 2s 10ms/step - loss: 0.1244 - val_loss: 0.1230\n",
            "Epoch 30/100\n",
            "235/235 [==============================] - 2s 10ms/step - loss: 0.1242 - val_loss: 0.1227\n",
            "Epoch 31/100\n",
            "235/235 [==============================] - 2s 10ms/step - loss: 0.1239 - val_loss: 0.1224\n",
            "Epoch 32/100\n",
            "235/235 [==============================] - 2s 10ms/step - loss: 0.1236 - val_loss: 0.1222\n",
            "Epoch 33/100\n",
            "235/235 [==============================] - 2s 10ms/step - loss: 0.1233 - val_loss: 0.1219\n",
            "Epoch 34/100\n",
            "235/235 [==============================] - 2s 10ms/step - loss: 0.1230 - val_loss: 0.1216\n",
            "Epoch 35/100\n",
            "235/235 [==============================] - 2s 10ms/step - loss: 0.1227 - val_loss: 0.1213\n",
            "Epoch 36/100\n",
            "235/235 [==============================] - 2s 10ms/step - loss: 0.1225 - val_loss: 0.1210\n",
            "Epoch 37/100\n",
            "235/235 [==============================] - 2s 10ms/step - loss: 0.1222 - val_loss: 0.1208\n",
            "Epoch 38/100\n",
            "235/235 [==============================] - 2s 10ms/step - loss: 0.1219 - val_loss: 0.1205\n",
            "Epoch 39/100\n",
            "235/235 [==============================] - 2s 10ms/step - loss: 0.1217 - val_loss: 0.1202\n",
            "Epoch 40/100\n",
            "235/235 [==============================] - 2s 10ms/step - loss: 0.1214 - val_loss: 0.1200\n",
            "Epoch 41/100\n",
            "235/235 [==============================] - 2s 10ms/step - loss: 0.1212 - val_loss: 0.1197\n",
            "Epoch 42/100\n",
            "235/235 [==============================] - 2s 10ms/step - loss: 0.1209 - val_loss: 0.1195\n",
            "Epoch 43/100\n",
            "235/235 [==============================] - 2s 10ms/step - loss: 0.1207 - val_loss: 0.1192\n",
            "Epoch 44/100\n",
            "235/235 [==============================] - 2s 10ms/step - loss: 0.1204 - val_loss: 0.1190\n",
            "Epoch 45/100\n",
            "235/235 [==============================] - 2s 10ms/step - loss: 0.1202 - val_loss: 0.1188\n",
            "Epoch 46/100\n",
            "235/235 [==============================] - 2s 10ms/step - loss: 0.1199 - val_loss: 0.1185\n",
            "Epoch 47/100\n",
            "235/235 [==============================] - 2s 10ms/step - loss: 0.1197 - val_loss: 0.1183\n",
            "Epoch 48/100\n",
            "235/235 [==============================] - 2s 10ms/step - loss: 0.1195 - val_loss: 0.1181\n",
            "Epoch 49/100\n",
            "235/235 [==============================] - 2s 10ms/step - loss: 0.1193 - val_loss: 0.1178\n",
            "Epoch 50/100\n",
            "235/235 [==============================] - 2s 10ms/step - loss: 0.1190 - val_loss: 0.1176\n",
            "Epoch 51/100\n",
            "235/235 [==============================] - 2s 10ms/step - loss: 0.1188 - val_loss: 0.1174\n",
            "Epoch 52/100\n",
            "235/235 [==============================] - 2s 10ms/step - loss: 0.1186 - val_loss: 0.1172\n",
            "Epoch 53/100\n",
            "235/235 [==============================] - 2s 10ms/step - loss: 0.1184 - val_loss: 0.1170\n",
            "Epoch 54/100\n",
            "235/235 [==============================] - 2s 10ms/step - loss: 0.1182 - val_loss: 0.1168\n",
            "Epoch 55/100\n",
            "235/235 [==============================] - 2s 10ms/step - loss: 0.1180 - val_loss: 0.1165\n",
            "Epoch 56/100\n",
            "235/235 [==============================] - 2s 10ms/step - loss: 0.1178 - val_loss: 0.1163\n",
            "Epoch 57/100\n",
            "235/235 [==============================] - 2s 10ms/step - loss: 0.1176 - val_loss: 0.1161\n",
            "Epoch 58/100\n",
            "235/235 [==============================] - 2s 10ms/step - loss: 0.1174 - val_loss: 0.1159\n",
            "Epoch 59/100\n",
            "235/235 [==============================] - 2s 10ms/step - loss: 0.1172 - val_loss: 0.1158\n",
            "Epoch 60/100\n",
            "235/235 [==============================] - 2s 10ms/step - loss: 0.1170 - val_loss: 0.1156\n",
            "Epoch 61/100\n",
            "235/235 [==============================] - 2s 10ms/step - loss: 0.1168 - val_loss: 0.1154\n",
            "Epoch 62/100\n",
            "235/235 [==============================] - 2s 10ms/step - loss: 0.1166 - val_loss: 0.1152\n",
            "Epoch 63/100\n",
            "235/235 [==============================] - 2s 10ms/step - loss: 0.1164 - val_loss: 0.1150\n",
            "Epoch 64/100\n",
            "235/235 [==============================] - 2s 10ms/step - loss: 0.1163 - val_loss: 0.1148\n",
            "Epoch 65/100\n",
            "235/235 [==============================] - 2s 10ms/step - loss: 0.1161 - val_loss: 0.1146\n",
            "Epoch 66/100\n",
            "235/235 [==============================] - 2s 10ms/step - loss: 0.1159 - val_loss: 0.1145\n",
            "Epoch 67/100\n",
            "235/235 [==============================] - 2s 10ms/step - loss: 0.1157 - val_loss: 0.1143\n",
            "Epoch 68/100\n",
            "235/235 [==============================] - 2s 10ms/step - loss: 0.1156 - val_loss: 0.1141\n",
            "Epoch 69/100\n",
            "235/235 [==============================] - 2s 10ms/step - loss: 0.1154 - val_loss: 0.1140\n",
            "Epoch 70/100\n",
            "235/235 [==============================] - 2s 10ms/step - loss: 0.1152 - val_loss: 0.1138\n",
            "Epoch 71/100\n",
            "235/235 [==============================] - 2s 10ms/step - loss: 0.1151 - val_loss: 0.1136\n",
            "Epoch 72/100\n",
            "235/235 [==============================] - 2s 10ms/step - loss: 0.1149 - val_loss: 0.1135\n",
            "Epoch 73/100\n",
            "235/235 [==============================] - 2s 10ms/step - loss: 0.1147 - val_loss: 0.1133\n",
            "Epoch 74/100\n",
            "235/235 [==============================] - 2s 10ms/step - loss: 0.1146 - val_loss: 0.1131\n",
            "Epoch 75/100\n",
            "235/235 [==============================] - 2s 10ms/step - loss: 0.1144 - val_loss: 0.1130\n",
            "Epoch 76/100\n",
            "235/235 [==============================] - 2s 10ms/step - loss: 0.1143 - val_loss: 0.1128\n",
            "Epoch 77/100\n",
            "235/235 [==============================] - 2s 10ms/step - loss: 0.1141 - val_loss: 0.1127\n",
            "Epoch 78/100\n",
            "235/235 [==============================] - 2s 10ms/step - loss: 0.1140 - val_loss: 0.1125\n",
            "Epoch 79/100\n",
            "235/235 [==============================] - 2s 10ms/step - loss: 0.1138 - val_loss: 0.1124\n",
            "Epoch 80/100\n",
            "235/235 [==============================] - 2s 10ms/step - loss: 0.1137 - val_loss: 0.1122\n",
            "Epoch 81/100\n",
            "235/235 [==============================] - 2s 10ms/step - loss: 0.1135 - val_loss: 0.1121\n",
            "Epoch 82/100\n",
            "235/235 [==============================] - 2s 10ms/step - loss: 0.1134 - val_loss: 0.1119\n",
            "Epoch 83/100\n",
            "235/235 [==============================] - 2s 10ms/step - loss: 0.1132 - val_loss: 0.1118\n",
            "Epoch 84/100\n",
            "235/235 [==============================] - 2s 10ms/step - loss: 0.1131 - val_loss: 0.1117\n",
            "Epoch 85/100\n",
            "235/235 [==============================] - 2s 10ms/step - loss: 0.1130 - val_loss: 0.1115\n",
            "Epoch 86/100\n",
            "235/235 [==============================] - 2s 10ms/step - loss: 0.1128 - val_loss: 0.1114\n",
            "Epoch 87/100\n",
            "235/235 [==============================] - 2s 10ms/step - loss: 0.1127 - val_loss: 0.1113\n",
            "Epoch 88/100\n",
            "235/235 [==============================] - 2s 10ms/step - loss: 0.1126 - val_loss: 0.1111\n",
            "Epoch 89/100\n",
            "235/235 [==============================] - 2s 10ms/step - loss: 0.1124 - val_loss: 0.1110\n",
            "Epoch 90/100\n",
            "235/235 [==============================] - 2s 10ms/step - loss: 0.1123 - val_loss: 0.1109\n",
            "Epoch 91/100\n",
            "235/235 [==============================] - 2s 10ms/step - loss: 0.1122 - val_loss: 0.1107\n",
            "Epoch 92/100\n",
            "235/235 [==============================] - 2s 10ms/step - loss: 0.1120 - val_loss: 0.1106\n",
            "Epoch 93/100\n",
            "235/235 [==============================] - 2s 10ms/step - loss: 0.1119 - val_loss: 0.1105\n",
            "Epoch 94/100\n",
            "235/235 [==============================] - 2s 10ms/step - loss: 0.1118 - val_loss: 0.1104\n",
            "Epoch 95/100\n",
            "235/235 [==============================] - 2s 10ms/step - loss: 0.1117 - val_loss: 0.1102\n",
            "Epoch 96/100\n",
            "235/235 [==============================] - 2s 10ms/step - loss: 0.1115 - val_loss: 0.1101\n",
            "Epoch 97/100\n",
            "235/235 [==============================] - 2s 10ms/step - loss: 0.1114 - val_loss: 0.1100\n",
            "Epoch 98/100\n",
            "235/235 [==============================] - 2s 10ms/step - loss: 0.1113 - val_loss: 0.1099\n",
            "Epoch 99/100\n",
            "235/235 [==============================] - 2s 10ms/step - loss: 0.1112 - val_loss: 0.1098\n",
            "Epoch 100/100\n",
            "235/235 [==============================] - 2s 10ms/step - loss: 0.1111 - val_loss: 0.1096\n"
          ],
          "name": "stdout"
        },
        {
          "output_type": "execute_result",
          "data": {
            "text/plain": [
              "<tensorflow.python.keras.callbacks.History at 0x7f906651a978>"
            ]
          },
          "metadata": {
            "tags": []
          },
          "execution_count": 32
        }
      ]
    },
    {
      "cell_type": "code",
      "metadata": {
        "id": "ez_CKU8PCK2U",
        "colab_type": "code",
        "colab": {
          "base_uri": "https://localhost:8080/",
          "height": 54
        },
        "outputId": "47f853c7-1e4c-4a84-b005-02d1b88f90dd"
      },
      "source": [
        "result = autoencoder.predict((x_test_noisy[1].reshape(1, 28, 28, 1)))"
      ],
      "execution_count": 33,
      "outputs": [
        {
          "output_type": "stream",
          "text": [
            "WARNING:tensorflow:5 out of the last 7 calls to <function Model.make_predict_function.<locals>.predict_function at 0x7f90c67c5ea0> triggered tf.function retracing. Tracing is expensive and the excessive number of tracings could be due to (1) creating @tf.function repeatedly in a loop, (2) passing tensors with different shapes, (3) passing Python objects instead of tensors. For (1), please define your @tf.function outside of the loop. For (2), @tf.function has experimental_relax_shapes=True option that relaxes argument shapes that can avoid unnecessary retracing. For (3), please refer to https://www.tensorflow.org/tutorials/customization/performance#python_or_tensor_args and https://www.tensorflow.org/api_docs/python/tf/function for  more details.\n"
          ],
          "name": "stdout"
        }
      ]
    },
    {
      "cell_type": "code",
      "metadata": {
        "id": "OecxN8aGCZwE",
        "colab_type": "code",
        "colab": {
          "base_uri": "https://localhost:8080/",
          "height": 282
        },
        "outputId": "e8a8ad59-3df1-4f35-c7cb-0e1b107d11dc"
      },
      "source": [
        "plt.imshow(result.reshape(28, 28))"
      ],
      "execution_count": 34,
      "outputs": [
        {
          "output_type": "execute_result",
          "data": {
            "text/plain": [
              "<matplotlib.image.AxesImage at 0x7f9056765fd0>"
            ]
          },
          "metadata": {
            "tags": []
          },
          "execution_count": 34
        },
        {
          "output_type": "display_data",
          "data": {
            "image/png": "[encoded data removed]",
            "text/plain": [
              "<Figure size 432x288 with 1 Axes>"
            ]
          },
          "metadata": {
            "tags": [],
            "needs_background": "light"
          }
        }
      ]
    },
    {
      "cell_type": "code",
      "metadata": {
        "id": "Z9HBJRKtCasq",
        "colab_type": "code",
        "colab": {}
      },
      "source": [
        ""
      ],
      "execution_count": null,
      "outputs": []
    }
  ]
}