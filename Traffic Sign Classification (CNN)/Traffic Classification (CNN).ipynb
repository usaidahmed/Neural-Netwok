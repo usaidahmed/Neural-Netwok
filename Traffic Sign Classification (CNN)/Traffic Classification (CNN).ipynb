{
 "cells": [
  {
   "cell_type": "code",
   "execution_count": 28,
   "metadata": {},
   "outputs": [],
   "source": [
    "import numpy as np\n",
    "import pandas as pd\n",
    "import matplotlib.pyplot as plt\n",
    "import os\n",
    "from sklearn.model_selection import train_test_split\n",
    "from keras.utils import to_categorical\n",
    "from keras.models import Sequential\n",
    "from keras.layers import Conv2D, MaxPool2D, Dense, Flatten, Dropout\n",
    "from PIL import Image"
   ]
  },
  {
   "cell_type": "code",
   "execution_count": 29,
   "metadata": {},
   "outputs": [],
   "source": [
    "data = []\n",
    "labels = []\n",
    "classes = 43\n",
    "current_path = os.getcwd()\n",
    "\n",
    "for i in range(classes):\n",
    "    path = os.path.join(current_path, \"train\", str(i))\n",
    "    images = os.listdir(path)\n",
    "    \n",
    "    for a in images:\n",
    "        try:\n",
    "            image = Image.open(path + \"\\\\\" + a)\n",
    "            image = image.resize((30, 30))\n",
    "            image = np.array(image)\n",
    "            data.append(image)\n",
    "            labels.append(i)\n",
    "        except:\n",
    "            print(\"Error Loading Image\")\n",
    "            \n",
    "data = np.array(data)\n",
    "labels = np.array(labels)"
   ]
  },
  {
   "cell_type": "code",
   "execution_count": 30,
   "metadata": {},
   "outputs": [
    {
     "name": "stdout",
     "output_type": "stream",
     "text": [
      "(39209, 30, 30, 3) (39209,)\n"
     ]
    }
   ],
   "source": [
    "print(data.shape, labels.shape)"
   ]
  },
  {
   "cell_type": "code",
   "execution_count": 31,
   "metadata": {},
   "outputs": [
    {
     "name": "stdout",
     "output_type": "stream",
     "text": [
      "(31367, 30, 30, 3) (7842, 30, 30, 3) (31367,) (7842,)\n"
     ]
    }
   ],
   "source": [
    "X_train, X_test, y_train, y_test = train_test_split(data, labels, test_size = 0.2, random_state = 42)\n",
    "print(X_train.shape, X_test.shape, y_train.shape, y_test.shape)\n",
    "\n",
    "y_train = to_categorical(y_train, 43)\n",
    "y_test = to_categorical(y_test, 43)"
   ]
  },
  {
   "cell_type": "code",
   "execution_count": 32,
   "metadata": {},
   "outputs": [],
   "source": [
    "model = Sequential()\n",
    "model.add(Conv2D(32, (5, 5), activation = \"relu\", input_shape = X_train.shape[1:]))\n",
    "model.add(Conv2D(32, (5, 5), activation = \"relu\"))\n",
    "model.add(MaxPool2D(2, 2))\n",
    "model.add(Dropout(0.2))\n",
    "model.add(Conv2D(64, (3, 3), activation = \"relu\"))\n",
    "model.add(Conv2D(64, (3, 3), activation = \"relu\"))\n",
    "model.add(Dropout(0.2))\n",
    "model.add(Flatten())\n",
    "model.add(Dense(256, activation = \"relu\"))\n",
    "model.add(Dense(43, activation = \"softmax\"))"
   ]
  },
  {
   "cell_type": "code",
   "execution_count": 33,
   "metadata": {},
   "outputs": [],
   "source": [
    "model.compile(loss = \"categorical_crossentropy\",\n",
    "             optimizer = \"adam\",\n",
    "             metrics = [\"acc\"])"
   ]
  },
  {
   "cell_type": "code",
   "execution_count": 34,
   "metadata": {},
   "outputs": [
    {
     "name": "stdout",
     "output_type": "stream",
     "text": [
      "Train on 31367 samples, validate on 7842 samples\n",
      "Epoch 1/15\n",
      "31367/31367 [==============================] - 42s 1ms/step - loss: 0.7189 - acc: 0.8255 - val_loss: 0.1368 - val_acc: 0.9644\n",
      "Epoch 2/15\n",
      "31367/31367 [==============================] - 42s 1ms/step - loss: 0.1787 - acc: 0.9529 - val_loss: 0.1004 - val_acc: 0.9741\n",
      "Epoch 3/15\n",
      "31367/31367 [==============================] - 43s 1ms/step - loss: 0.1317 - acc: 0.9636 - val_loss: 0.1000 - val_acc: 0.9736\n",
      "Epoch 4/15\n",
      "31367/31367 [==============================] - 43s 1ms/step - loss: 0.1189 - acc: 0.9677 - val_loss: 0.0544 - val_acc: 0.9857\n",
      "Epoch 5/15\n",
      "31367/31367 [==============================] - 43s 1ms/step - loss: 0.1208 - acc: 0.9687 - val_loss: 0.0441 - val_acc: 0.9888\n",
      "Epoch 6/15\n",
      "31367/31367 [==============================] - 44s 1ms/step - loss: 0.1128 - acc: 0.9711 - val_loss: 0.0623 - val_acc: 0.9839\n",
      "Epoch 7/15\n",
      "31367/31367 [==============================] - 43s 1ms/step - loss: 0.0929 - acc: 0.9763 - val_loss: 0.0565 - val_acc: 0.9880\n",
      "Epoch 8/15\n",
      "31367/31367 [==============================] - 44s 1ms/step - loss: 0.1090 - acc: 0.9735 - val_loss: 0.0857 - val_acc: 0.9801\n",
      "Epoch 9/15\n",
      "31367/31367 [==============================] - 42s 1ms/step - loss: 0.0832 - acc: 0.9797 - val_loss: 0.0913 - val_acc: 0.9787\n",
      "Epoch 10/15\n",
      "31367/31367 [==============================] - 42s 1ms/step - loss: 0.1150 - acc: 0.9759 - val_loss: 0.0647 - val_acc: 0.9869\n",
      "Epoch 11/15\n",
      "31367/31367 [==============================] - 43s 1ms/step - loss: 0.1013 - acc: 0.9772 - val_loss: 0.1330 - val_acc: 0.9762\n",
      "Epoch 12/15\n",
      "31367/31367 [==============================] - 43s 1ms/step - loss: 0.0806 - acc: 0.9814 - val_loss: 0.0735 - val_acc: 0.9858\n",
      "Epoch 13/15\n",
      "31367/31367 [==============================] - 43s 1ms/step - loss: 0.0792 - acc: 0.9831 - val_loss: 0.2348 - val_acc: 0.9580\n",
      "Epoch 14/15\n",
      "31367/31367 [==============================] - 43s 1ms/step - loss: 0.1406 - acc: 0.9743 - val_loss: 0.0671 - val_acc: 0.9892\n",
      "Epoch 15/15\n",
      "31367/31367 [==============================] - 43s 1ms/step - loss: 0.0880 - acc: 0.9828 - val_loss: 0.0970 - val_acc: 0.9862\n"
     ]
    }
   ],
   "source": [
    "history = model.fit( X_train, y_train, epochs = 15, validation_data = (X_test, y_test))"
   ]
  },
  {
   "cell_type": "code",
   "execution_count": 35,
   "metadata": {},
   "outputs": [
    {
     "data": {
      "text/plain": [
       "<matplotlib.legend.Legend at 0x28b3b2b2ec8>"
      ]
     },
     "execution_count": 35,
     "metadata": {},
     "output_type": "execute_result"
    },
    {
     "data": {
      "image/png": "[encoded data removed]",
      "text/plain": [
       "<Figure size 432x288 with 1 Axes>"
      ]
     },
     "metadata": {
      "needs_background": "light"
     },
     "output_type": "display_data"
    },
    {
     "data": {
      "image/png": "[encoded data removed]",
      "text/plain": [
       "<Figure size 432x288 with 1 Axes>"
      ]
     },
     "metadata": {
      "needs_background": "light"
     },
     "output_type": "display_data"
    }
   ],
   "source": [
    "plt.plot(history.history[\"acc\"], label = \"Training Accuracy\")\n",
    "plt.plot(history.history[\"val_acc\"], label = \"val_accuracy\")\n",
    "plt.title(\"Accuracy\")\n",
    "plt.xlabel(\"epochs\")\n",
    "plt.ylabel(\"accuracy\")\n",
    "plt.legend()\n",
    "\n",
    "plt.figure()\n",
    "plt.plot(history.history[\"loss\"], label = \"Training Loss\")\n",
    "plt.plot(history.history[\"val_loss\"], label = \"val_Loss\")\n",
    "plt.title(\"Loss\")\n",
    "plt.xlabel(\"epochs\")\n",
    "plt.ylabel(\"loss\")\n",
    "plt.legend()"
   ]
  },
  {
   "cell_type": "code",
   "execution_count": 38,
   "metadata": {},
   "outputs": [
    {
     "data": {
      "text/plain": [
       "0.9380047505938243"
      ]
     },
     "execution_count": 38,
     "metadata": {},
     "output_type": "execute_result"
    }
   ],
   "source": [
    "y_test = pd.read_csv(\"Test.csv\")\n",
    "\n",
    "labels = y_test[\"ClassId\"].values\n",
    "imgs = y_test[\"Path\"].values\n",
    "\n",
    "data = []\n",
    "\n",
    "for img in imgs:\n",
    "    image = Image.open(img)\n",
    "    image = image.resize((30, 30))\n",
    "    data.append(np.array(image))\n",
    "    \n",
    "X_test = np.array(data)\n",
    "\n",
    "prediction = model.predict_classes(X_test)\n",
    "\n",
    "from sklearn.metrics import accuracy_score\n",
    "accuracy_score(labels, prediction)"
   ]
  },
  {
   "cell_type": "code",
   "execution_count": 39,
   "metadata": {},
   "outputs": [],
   "source": [
    "model.save(\"Traffic_Classification.h5\")"
   ]
  },
  {
   "cell_type": "code",
   "execution_count": null,
   "metadata": {},
   "outputs": [],
   "source": []
  }
 ],
 "metadata": {
  "kernelspec": {
   "display_name": "Python 3",
   "language": "python",
   "name": "python3"
  },
  "language_info": {
   "codemirror_mode": {
    "name": "ipython",
    "version": 3
   },
   "file_extension": ".py",
   "mimetype": "text/x-python",
   "name": "python",
   "nbconvert_exporter": "python",
   "pygments_lexer": "ipython3",
   "version": "3.7.6"
  }
 },
 "nbformat": 4,
 "nbformat_minor": 4
}
