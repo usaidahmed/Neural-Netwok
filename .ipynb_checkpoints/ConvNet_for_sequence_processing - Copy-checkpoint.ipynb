{
 "cells": [
  {
   "cell_type": "code",
   "execution_count": 1,
   "metadata": {},
   "outputs": [
    {
     "name": "stdout",
     "output_type": "stream",
     "text": [
      "Loading data...\n",
      "25000 train sequences\n",
      "25000 test sequences\n",
      "Pad sequences (samples x time)\n",
      "x_train shape: (25000, 500)\n",
      "x_test shape: (25000, 500)\n"
     ]
    }
   ],
   "source": [
    "from tensorflow.keras.datasets import imdb\n",
    "from tensorflow.keras.preprocessing import sequence\n",
    "max_features = 10000\n",
    "max_len = 500\n",
    "print('Loading data...')\n",
    "(x_train, y_train), (x_test, y_test) = imdb.load_data(num_words=max_features)\n",
    "print(len(x_train), 'train sequences')\n",
    "print(len(x_test), 'test sequences')\n",
    "print('Pad sequences (samples x time)')\n",
    "x_train = sequence.pad_sequences(x_train, maxlen=max_len)\n",
    "x_test = sequence.pad_sequences(x_test, maxlen=max_len)\n",
    "print('x_train shape:', x_train.shape)\n",
    "print('x_test shape:', x_test.shape)"
   ]
  },
  {
   "cell_type": "code",
   "execution_count": 2,
   "metadata": {},
   "outputs": [
    {
     "name": "stdout",
     "output_type": "stream",
     "text": [
      "Model: \"sequential\"\n",
      "_________________________________________________________________\n",
      "Layer (type)                 Output Shape              Param #   \n",
      "=================================================================\n",
      "embedding (Embedding)        (None, 500, 128)          1280000   \n",
      "_________________________________________________________________\n",
      "conv1d (Conv1D)              (None, 494, 32)           28704     \n",
      "_________________________________________________________________\n",
      "max_pooling1d (MaxPooling1D) (None, 98, 32)            0         \n",
      "_________________________________________________________________\n",
      "conv1d_1 (Conv1D)            (None, 92, 32)            7200      \n",
      "_________________________________________________________________\n",
      "global_max_pooling1d (Global (None, 32)                0         \n",
      "_________________________________________________________________\n",
      "dense (Dense)                (None, 1)                 33        \n",
      "=================================================================\n",
      "Total params: 1,315,937\n",
      "Trainable params: 1,315,937\n",
      "Non-trainable params: 0\n",
      "_________________________________________________________________\n"
     ]
    }
   ],
   "source": [
    "from tensorflow.keras.models import Sequential\n",
    "from tensorflow.keras import layers\n",
    "from tensorflow.keras.optimizers import RMSprop\n",
    "model = Sequential()\n",
    "model.add(layers.Embedding(max_features, 128, input_length=max_len))\n",
    "model.add(layers.Conv1D(32, 7, activation='relu'))\n",
    "model.add(layers.MaxPooling1D(5))\n",
    "model.add(layers.Conv1D(32, 7, activation='relu'))\n",
    "model.add(layers.GlobalMaxPooling1D())\n",
    "model.add(layers.Dense(1))\n",
    "model.summary()"
   ]
  },
  {
   "cell_type": "code",
   "execution_count": 3,
   "metadata": {},
   "outputs": [],
   "source": [
    "import tensorflow\n",
    "callbacks_list = [\n",
    "    ensorflow.keras.callbacks.EarlyStopping(\n",
    "        monitor='acc',\n",
    "        patience=1,\n",
    "    ),\n",
    "    tensorflow.keras.callbacks.ModelCheckpoint(\n",
    "        filepath='my_model.h5',\n",
    "        monitor='val_loss',\n",
    "        save_best_only=True,\n",
    "        callbacks_list = [\n",
    "            keras.callbacks.ReduceLROnPlateau(\n",
    "                monitor='val_loss'\n",
    "                factor=0.1,\n",
    "                patience=10,\n",
    "            )\n",
    "        ]\n",
    "    \n"
   ]
  },
  {
   "cell_type": "code",
   "execution_count": null,
   "metadata": {},
   "outputs": [],
   "source": []
  },
  {
   "cell_type": "code",
   "execution_count": 6,
   "metadata": {},
   "outputs": [
    {
     "name": "stdout",
     "output_type": "stream",
     "text": [
      "Epoch 1/10\n",
      "157/157 [==============================] - 18s 112ms/step - loss: 0.2511 - acc: 0.9145 - val_loss: 0.4339 - val_acc: 0.8670\n",
      "Epoch 2/10\n",
      "157/157 [==============================] - 17s 111ms/step - loss: 0.2252 - acc: 0.9255 - val_loss: 0.4525 - val_acc: 0.8692\n",
      "Epoch 3/10\n",
      "157/157 [==============================] - 18s 113ms/step - loss: 0.2039 - acc: 0.9334 - val_loss: 0.5033 - val_acc: 0.8708\n",
      "Epoch 4/10\n",
      "157/157 [==============================] - 18s 113ms/step - loss: 0.1862 - acc: 0.9411 - val_loss: 0.5058 - val_acc: 0.8710\n",
      "Epoch 5/10\n",
      "157/157 [==============================] - 18s 117ms/step - loss: 0.1695 - acc: 0.9474 - val_loss: 0.5301 - val_acc: 0.8750\n",
      "Epoch 6/10\n",
      "157/157 [==============================] - 18s 115ms/step - loss: 0.1561 - acc: 0.9528 - val_loss: 0.5584 - val_acc: 0.8724\n",
      "Epoch 7/10\n",
      "157/157 [==============================] - 18s 114ms/step - loss: 0.1426 - acc: 0.9599 - val_loss: 0.5840 - val_acc: 0.8714\n",
      "Epoch 8/10\n",
      "157/157 [==============================] - 18s 118ms/step - loss: 0.1313 - acc: 0.9646 - val_loss: 0.6289 - val_acc: 0.8728\n",
      "Epoch 9/10\n",
      "157/157 [==============================] - 19s 121ms/step - loss: 0.1206 - acc: 0.9685 - val_loss: 0.6652 - val_acc: 0.8714\n",
      "Epoch 10/10\n",
      "157/157 [==============================] - 18s 117ms/step - loss: 0.1106 - acc: 0.9740 - val_loss: 0.6689 - val_acc: 0.8698\n"
     ]
    }
   ],
   "source": [
    "model.compile(optimizer=RMSprop(lr=1e-4),loss='binary_crossentropy',metrics=['acc'])\n",
    "history = model.fit(x_train, y_train,epochs=10,batch_size=128,callbacks=callbacks_list,validation_split=0.2)"
   ]
  },
  {
   "cell_type": "code",
   "execution_count": null,
   "metadata": {},
   "outputs": [],
   "source": []
  }
 ],
 "metadata": {
  "kernelspec": {
   "display_name": "Python 3",
   "language": "python",
   "name": "python3"
  },
  "language_info": {
   "codemirror_mode": {
    "name": "ipython",
    "version": 3
   },
   "file_extension": ".py",
   "mimetype": "text/x-python",
   "name": "python",
   "nbconvert_exporter": "python",
   "pygments_lexer": "ipython3",
   "version": "3.8.3"
  }
 },
 "nbformat": 4,
 "nbformat_minor": 2
}
