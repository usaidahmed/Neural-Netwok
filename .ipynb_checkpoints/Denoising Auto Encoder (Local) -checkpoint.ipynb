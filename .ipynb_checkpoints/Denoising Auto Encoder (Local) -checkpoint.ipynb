{
 "cells": [
  {
   "cell_type": "code",
   "execution_count": 1,
   "metadata": {},
   "outputs": [],
   "source": [
    "import tensorflow as tf\n",
    "gpus= tf.config.experimental.list_physical_devices('GPU')\n",
    "tf.config.experimental.set_memory_growth(gpus[0], True)"
   ]
  },
  {
   "cell_type": "code",
   "execution_count": 2,
   "metadata": {},
   "outputs": [],
   "source": [
    "import numpy as np\n",
    "from tensorflow import keras\n",
    "from tensorflow.keras.datasets import mnist\n",
    "from tensorflow.keras.models import Sequential, Model\n",
    "from tensorflow.keras.layers import Dense, Input, Conv2D, MaxPooling2D, UpSampling2D \n",
    "from tensorflow.keras import optimizers\n",
    "from tensorflow.keras.optimizers import Adam\n",
    "import matplotlib.pyplot as plt"
   ]
  },
  {
   "cell_type": "code",
   "execution_count": 3,
   "metadata": {},
   "outputs": [],
   "source": [
    "(x_train, y_train), (x_test, y_test) = mnist.load_data()\n",
    "x_train = x_train.reshape(60000, 28, 28, 1) / 255\n",
    "x_test = x_test.reshape(10000, 28, 28, 1) / 255"
   ]
  },
  {
   "cell_type": "code",
   "execution_count": 4,
   "metadata": {},
   "outputs": [
    {
     "data": {
      "text/plain": [
       "<matplotlib.image.AxesImage at 0x1a4b8b78e20>"
      ]
     },
     "execution_count": 4,
     "metadata": {},
     "output_type": "execute_result"
    },
    {
     "data": {
      "image/png": "[encoded data removed]",
      "text/plain": [
       "<Figure size 432x288 with 1 Axes>"
      ]
     },
     "metadata": {
      "needs_background": "light"
     },
     "output_type": "display_data"
    }
   ],
   "source": [
    "noise_factor = 0.5\n",
    "x_train_noisy = x_train + noise_factor * np.random.normal(loc=0.0, scale=1.0, size=x_train.shape) \n",
    "x_test_noisy = x_test + noise_factor * np.random.normal(loc=0.0, scale=1.0, size=x_test.shape) \n",
    "\n",
    "x_train_noisy = np.clip(x_train_noisy, 0., 1.)\n",
    "x_test_noisy = np.clip(x_test_noisy, 0., 1.)\n",
    "\n",
    "#Print one image to see the noise\n",
    "plt.imshow(x_test_noisy[1].reshape(28, 28))"
   ]
  },
  {
   "cell_type": "code",
   "execution_count": 5,
   "metadata": {},
   "outputs": [],
   "source": [
    "input_img = Input(shape=(28, 28, 1))\n",
    "\n",
    "nn = Conv2D(32, (3, 3), activation='relu', padding='same')(input_img)\n",
    "nn = MaxPooling2D((2, 2), padding='same')(nn)\n",
    "nn = Conv2D(32, (3, 3), activation='relu', padding='same')(nn)\n",
    "encoded = MaxPooling2D((2, 2), padding='same')(nn)"
   ]
  },
  {
   "cell_type": "code",
   "execution_count": 6,
   "metadata": {},
   "outputs": [],
   "source": [
    "nn = Conv2D(32, (3, 3), activation='relu', padding='same')(encoded)\n",
    "nn = UpSampling2D((2, 2))(nn)\n",
    "nn = Conv2D(32, (3, 3), activation='relu', padding='same')(nn)\n",
    "nn = UpSampling2D((2, 2))(nn)\n",
    "decoded = Conv2D(1, (3, 3), activation='sigmoid', padding='same')(nn)"
   ]
  },
  {
   "cell_type": "code",
   "execution_count": 12,
   "metadata": {},
   "outputs": [
    {
     "name": "stdout",
     "output_type": "stream",
     "text": [
      "Epoch 1/100\n",
      "118/118 [==============================] - 4s 33ms/step - loss: 0.1672 - val_loss: 0.1660\n",
      "Epoch 2/100\n",
      "118/118 [==============================] - 4s 31ms/step - loss: 0.1670 - val_loss: 0.1658\n",
      "Epoch 3/100\n",
      "118/118 [==============================] - 4s 31ms/step - loss: 0.1668 - val_loss: 0.1656\n",
      "Epoch 4/100\n",
      "118/118 [==============================] - 4s 31ms/step - loss: 0.1665 - val_loss: 0.1654\n",
      "Epoch 5/100\n",
      "118/118 [==============================] - 4s 31ms/step - loss: 0.1663 - val_loss: 0.1652\n",
      "Epoch 6/100\n",
      "118/118 [==============================] - 4s 31ms/step - loss: 0.1661 - val_loss: 0.1649\n",
      "Epoch 7/100\n",
      "118/118 [==============================] - 4s 31ms/step - loss: 0.1659 - val_loss: 0.1647\n",
      "Epoch 8/100\n",
      "118/118 [==============================] - 4s 31ms/step - loss: 0.1657 - val_loss: 0.1645\n",
      "Epoch 9/100\n",
      "118/118 [==============================] - 4s 32ms/step - loss: 0.1655 - val_loss: 0.1643\n",
      "Epoch 10/100\n",
      "118/118 [==============================] - 4s 31ms/step - loss: 0.1653 - val_loss: 0.1641\n",
      "Epoch 11/100\n",
      "118/118 [==============================] - 4s 31ms/step - loss: 0.1651 - val_loss: 0.1639\n",
      "Epoch 12/100\n",
      "118/118 [==============================] - 4s 31ms/step - loss: 0.1649 - val_loss: 0.1637\n",
      "Epoch 13/100\n",
      "118/118 [==============================] - 4s 31ms/step - loss: 0.1647 - val_loss: 0.1635\n",
      "Epoch 14/100\n",
      "118/118 [==============================] - 4s 31ms/step - loss: 0.1645 - val_loss: 0.1633\n",
      "Epoch 15/100\n",
      "118/118 [==============================] - 4s 32ms/step - loss: 0.1643 - val_loss: 0.1631\n",
      "Epoch 16/100\n",
      "118/118 [==============================] - 4s 32ms/step - loss: 0.1641 - val_loss: 0.1628\n",
      "Epoch 17/100\n",
      "118/118 [==============================] - 4s 31ms/step - loss: 0.1639 - val_loss: 0.1626\n",
      "Epoch 18/100\n",
      "118/118 [==============================] - 4s 31ms/step - loss: 0.1637 - val_loss: 0.1624\n",
      "Epoch 19/100\n",
      "118/118 [==============================] - 4s 31ms/step - loss: 0.1635 - val_loss: 0.1622\n",
      "Epoch 20/100\n",
      "118/118 [==============================] - 4s 31ms/step - loss: 0.1633 - val_loss: 0.1620\n",
      "Epoch 21/100\n",
      "118/118 [==============================] - 4s 31ms/step - loss: 0.1631 - val_loss: 0.1619\n",
      "Epoch 22/100\n",
      "118/118 [==============================] - 4s 32ms/step - loss: 0.1629 - val_loss: 0.1617\n",
      "Epoch 23/100\n",
      "118/118 [==============================] - 4s 31ms/step - loss: 0.1627 - val_loss: 0.1615\n",
      "Epoch 24/100\n",
      "118/118 [==============================] - 4s 31ms/step - loss: 0.1625 - val_loss: 0.1613\n",
      "Epoch 25/100\n",
      "118/118 [==============================] - 4s 31ms/step - loss: 0.1623 - val_loss: 0.1611\n",
      "Epoch 26/100\n",
      "118/118 [==============================] - 4s 31ms/step - loss: 0.1621 - val_loss: 0.1609\n",
      "Epoch 27/100\n",
      "118/118 [==============================] - 4s 31ms/step - loss: 0.1619 - val_loss: 0.1607\n",
      "Epoch 28/100\n",
      "118/118 [==============================] - 4s 31ms/step - loss: 0.1617 - val_loss: 0.1605\n",
      "Epoch 29/100\n",
      "118/118 [==============================] - 4s 31ms/step - loss: 0.1615 - val_loss: 0.1603\n",
      "Epoch 30/100\n",
      "118/118 [==============================] - 4s 31ms/step - loss: 0.1614 - val_loss: 0.1601\n",
      "Epoch 31/100\n",
      "118/118 [==============================] - 4s 31ms/step - loss: 0.1612 - val_loss: 0.1600\n",
      "Epoch 32/100\n",
      "118/118 [==============================] - 4s 32ms/step - loss: 0.1610 - val_loss: 0.1598\n",
      "Epoch 33/100\n",
      "118/118 [==============================] - 4s 31ms/step - loss: 0.1608 - val_loss: 0.1596\n",
      "Epoch 34/100\n",
      "118/118 [==============================] - 4s 31ms/step - loss: 0.1606 - val_loss: 0.1594\n",
      "Epoch 35/100\n",
      "118/118 [==============================] - 4s 31ms/step - loss: 0.1604 - val_loss: 0.1592\n",
      "Epoch 36/100\n",
      "118/118 [==============================] - 4s 31ms/step - loss: 0.1603 - val_loss: 0.1591\n",
      "Epoch 37/100\n",
      "118/118 [==============================] - 4s 31ms/step - loss: 0.1601 - val_loss: 0.1589\n",
      "Epoch 38/100\n",
      "118/118 [==============================] - 4s 31ms/step - loss: 0.1599 - val_loss: 0.1587\n",
      "Epoch 39/100\n",
      "118/118 [==============================] - 4s 31ms/step - loss: 0.1597 - val_loss: 0.1585\n",
      "Epoch 40/100\n",
      "118/118 [==============================] - 4s 31ms/step - loss: 0.1596 - val_loss: 0.1584\n",
      "Epoch 41/100\n",
      "118/118 [==============================] - 4s 31ms/step - loss: 0.1594 - val_loss: 0.1582\n",
      "Epoch 42/100\n",
      "118/118 [==============================] - 4s 31ms/step - loss: 0.1592 - val_loss: 0.1580\n",
      "Epoch 43/100\n",
      "118/118 [==============================] - 4s 31ms/step - loss: 0.1591 - val_loss: 0.1579A:  - ETA: 0s - loss: \n",
      "Epoch 44/100\n",
      "118/118 [==============================] - 4s 31ms/step - loss: 0.1589 - val_loss: 0.1577\n",
      "Epoch 45/100\n",
      "118/118 [==============================] - 4s 31ms/step - loss: 0.1587 - val_loss: 0.1575\n",
      "Epoch 46/100\n",
      "118/118 [==============================] - 4s 31ms/step - loss: 0.1586 - val_loss: 0.1573\n",
      "Epoch 47/100\n",
      "118/118 [==============================] - 4s 31ms/step - loss: 0.1584 - val_loss: 0.1572\n",
      "Epoch 48/100\n",
      "118/118 [==============================] - 4s 31ms/step - loss: 0.1582 - val_loss: 0.1570\n",
      "Epoch 49/100\n",
      "118/118 [==============================] - 4s 31ms/step - loss: 0.1581 - val_loss: 0.1569\n",
      "Epoch 50/100\n",
      "118/118 [==============================] - 4s 31ms/step - loss: 0.1579 - val_loss: 0.1567\n",
      "Epoch 51/100\n",
      "118/118 [==============================] - 4s 31ms/step - loss: 0.1577 - val_loss: 0.1565\n",
      "Epoch 52/100\n",
      "118/118 [==============================] - 4s 31ms/step - loss: 0.1576 - val_loss: 0.1564\n",
      "Epoch 53/100\n",
      "118/118 [==============================] - 4s 31ms/step - loss: 0.1574 - val_loss: 0.1562\n",
      "Epoch 54/100\n",
      "118/118 [==============================] - 4s 31ms/step - loss: 0.1573 - val_loss: 0.1561\n",
      "Epoch 55/100\n",
      "118/118 [==============================] - 4s 31ms/step - loss: 0.1571 - val_loss: 0.1559\n",
      "Epoch 56/100\n",
      "118/118 [==============================] - 4s 31ms/step - loss: 0.1570 - val_loss: 0.1557\n",
      "Epoch 57/100\n",
      "118/118 [==============================] - 4s 31ms/step - loss: 0.1568 - val_loss: 0.1556\n",
      "Epoch 58/100\n",
      "118/118 [==============================] - 4s 33ms/step - loss: 0.1567 - val_loss: 0.1554\n",
      "Epoch 59/100\n",
      "118/118 [==============================] - 4s 31ms/step - loss: 0.1565 - val_loss: 0.1553\n",
      "Epoch 60/100\n",
      "118/118 [==============================] - 4s 31ms/step - loss: 0.1563 - val_loss: 0.1551\n",
      "Epoch 61/100\n",
      "118/118 [==============================] - 4s 32ms/step - loss: 0.1562 - val_loss: 0.1550\n",
      "Epoch 62/100\n",
      "118/118 [==============================] - 4s 31ms/step - loss: 0.1560 - val_loss: 0.1548\n",
      "Epoch 63/100\n",
      "118/118 [==============================] - 4s 31ms/step - loss: 0.1559 - val_loss: 0.1547\n",
      "Epoch 64/100\n",
      "118/118 [==============================] - 4s 31ms/step - loss: 0.1557 - val_loss: 0.1545\n",
      "Epoch 65/100\n",
      "118/118 [==============================] - 4s 31ms/step - loss: 0.1556 - val_loss: 0.1544\n",
      "Epoch 66/100\n",
      "118/118 [==============================] - 4s 31ms/step - loss: 0.1554 - val_loss: 0.1542\n",
      "Epoch 67/100\n",
      "118/118 [==============================] - 4s 31ms/step - loss: 0.1553 - val_loss: 0.1541\n",
      "Epoch 68/100\n",
      "118/118 [==============================] - 4s 31ms/step - loss: 0.1552 - val_loss: 0.1539\n",
      "Epoch 69/100\n",
      "118/118 [==============================] - 4s 31ms/step - loss: 0.1550 - val_loss: 0.1538\n",
      "Epoch 70/100\n",
      "118/118 [==============================] - 4s 31ms/step - loss: 0.1549 - val_loss: 0.1537\n",
      "Epoch 71/100\n",
      "118/118 [==============================] - 4s 31ms/step - loss: 0.1547 - val_loss: 0.1535\n",
      "Epoch 72/100\n",
      "118/118 [==============================] - 4s 31ms/step - loss: 0.1546 - val_loss: 0.1534\n",
      "Epoch 73/100\n",
      "118/118 [==============================] - 4s 31ms/step - loss: 0.1544 - val_loss: 0.1532\n",
      "Epoch 74/100\n",
      "118/118 [==============================] - 4s 31ms/step - loss: 0.1543 - val_loss: 0.1531\n",
      "Epoch 75/100\n",
      "118/118 [==============================] - 4s 31ms/step - loss: 0.1542 - val_loss: 0.1529\n",
      "Epoch 76/100\n",
      "118/118 [==============================] - 4s 31ms/step - loss: 0.1540 - val_loss: 0.1528\n",
      "Epoch 77/100\n",
      "118/118 [==============================] - 4s 31ms/step - loss: 0.1539 - val_loss: 0.1527\n",
      "Epoch 78/100\n",
      "118/118 [==============================] - 4s 31ms/step - loss: 0.1537 - val_loss: 0.1525\n",
      "Epoch 79/100\n",
      "118/118 [==============================] - 4s 31ms/step - loss: 0.1536 - val_loss: 0.1524\n",
      "Epoch 80/100\n"
     ]
    },
    {
     "name": "stdout",
     "output_type": "stream",
     "text": [
      "118/118 [==============================] - 4s 31ms/step - loss: 0.1535 - val_loss: 0.1522\n",
      "Epoch 81/100\n",
      "118/118 [==============================] - 4s 31ms/step - loss: 0.1533 - val_loss: 0.1521\n",
      "Epoch 82/100\n",
      "118/118 [==============================] - 4s 31ms/step - loss: 0.1532 - val_loss: 0.1520\n",
      "Epoch 83/100\n",
      "118/118 [==============================] - 4s 31ms/step - loss: 0.1530 - val_loss: 0.1518\n",
      "Epoch 84/100\n",
      "118/118 [==============================] - 4s 31ms/step - loss: 0.1529 - val_loss: 0.1517\n",
      "Epoch 85/100\n",
      "118/118 [==============================] - 4s 31ms/step - loss: 0.1528 - val_loss: 0.1516\n",
      "Epoch 86/100\n",
      "118/118 [==============================] - 4s 31ms/step - loss: 0.1526 - val_loss: 0.1514\n",
      "Epoch 87/100\n",
      "118/118 [==============================] - 4s 31ms/step - loss: 0.1525 - val_loss: 0.1513\n",
      "Epoch 88/100\n",
      "118/118 [==============================] - 4s 31ms/step - loss: 0.1524 - val_loss: 0.1512\n",
      "Epoch 89/100\n",
      "118/118 [==============================] - 4s 31ms/step - loss: 0.1522 - val_loss: 0.1510\n",
      "Epoch 90/100\n",
      "118/118 [==============================] - 4s 31ms/step - loss: 0.1521 - val_loss: 0.1509\n",
      "Epoch 91/100\n",
      "118/118 [==============================] - 4s 31ms/step - loss: 0.1520 - val_loss: 0.1508\n",
      "Epoch 92/100\n",
      "118/118 [==============================] - 4s 31ms/step - loss: 0.1518 - val_loss: 0.1506\n",
      "Epoch 93/100\n",
      "118/118 [==============================] - 4s 31ms/step - loss: 0.1517 - val_loss: 0.1505\n",
      "Epoch 94/100\n",
      "118/118 [==============================] - 4s 31ms/step - loss: 0.1516 - val_loss: 0.1504\n",
      "Epoch 95/100\n",
      "118/118 [==============================] - 4s 31ms/step - loss: 0.1515 - val_loss: 0.1503\n",
      "Epoch 96/100\n",
      "118/118 [==============================] - 4s 31ms/step - loss: 0.1513 - val_loss: 0.1501\n",
      "Epoch 97/100\n",
      "118/118 [==============================] - 4s 31ms/step - loss: 0.1512 - val_loss: 0.1500\n",
      "Epoch 98/100\n",
      "118/118 [==============================] - 4s 31ms/step - loss: 0.1511 - val_loss: 0.1499\n",
      "Epoch 99/100\n",
      "118/118 [==============================] - 4s 31ms/step - loss: 0.1510 - val_loss: 0.1497\n",
      "Epoch 100/100\n",
      "118/118 [==============================] - 4s 31ms/step - loss: 0.1508 - val_loss: 0.14960s -\n"
     ]
    },
    {
     "data": {
      "text/plain": [
       "<tensorflow.python.keras.callbacks.History at 0x1a48a639f70>"
      ]
     },
     "execution_count": 12,
     "metadata": {},
     "output_type": "execute_result"
    }
   ],
   "source": [
    "autoencoder = Model(input_img, decoded)\n",
    "autoencoder.compile(optimizer='adadelta',loss='binary_crossentropy')\n",
    "autoencoder.fit(x_train_noisy, x_train,\n",
    "                epochs=100,\n",
    "                batch_size=512,\n",
    "                validation_data=(x_test_noisy, x_test))"
   ]
  },
  {
   "cell_type": "code",
   "execution_count": 13,
   "metadata": {},
   "outputs": [],
   "source": [
    "result = autoencoder.predict((x_test_noisy[1].reshape(1, 28, 28, 1)))"
   ]
  },
  {
   "cell_type": "code",
   "execution_count": 14,
   "metadata": {},
   "outputs": [
    {
     "data": {
      "text/plain": [
       "<matplotlib.image.AxesImage at 0x1a5310ec520>"
      ]
     },
     "execution_count": 14,
     "metadata": {},
     "output_type": "execute_result"
    },
    {
     "data": {
      "image/png": "[encoded data removed]",
      "text/plain": [
       "<Figure size 432x288 with 1 Axes>"
      ]
     },
     "metadata": {
      "needs_background": "light"
     },
     "output_type": "display_data"
    }
   ],
   "source": [
    "plt.imshow(result.reshape(28, 28))"
   ]
  },
  {
   "cell_type": "code",
   "execution_count": null,
   "metadata": {},
   "outputs": [],
   "source": []
  }
 ],
 "metadata": {
  "kernelspec": {
   "display_name": "Python 3",
   "language": "python",
   "name": "python3"
  },
  "language_info": {
   "codemirror_mode": {
    "name": "ipython",
    "version": 3
   },
   "file_extension": ".py",
   "mimetype": "text/x-python",
   "name": "python",
   "nbconvert_exporter": "python",
   "pygments_lexer": "ipython3",
   "version": "3.8.3"
  }
 },
 "nbformat": 4,
 "nbformat_minor": 4
}
