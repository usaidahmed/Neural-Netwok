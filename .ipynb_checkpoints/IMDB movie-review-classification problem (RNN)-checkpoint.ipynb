{
 "cells": [
  {
   "cell_type": "code",
   "execution_count": 2,
   "metadata": {},
   "outputs": [
    {
     "name": "stdout",
     "output_type": "stream",
     "text": [
      "Loading data...\n",
      "25000 train sequences\n",
      "25000 test sequences\n",
      "Pad sequences (samples x time)\n",
      "input_train shape: (25000, 500)\n",
      "input_test shape: (25000, 500)\n"
     ]
    }
   ],
   "source": [
    "from keras.datasets import imdb\n",
    "from keras.preprocessing import sequence\n",
    "\n",
    "max_features = 10000\n",
    "maxlen = 500\n",
    "batch_size = 32\n",
    "\n",
    "print(\"Loading data...\")\n",
    "(input_train, Y_train), (input_test, Y_test) = imdb.load_data(\n",
    "num_words = max_features)\n",
    "print(len(input_train), \"train sequences\")\n",
    "print(len(input_test), \"test sequences\")\n",
    "\n",
    "print(\"Pad sequences (samples x time)\")\n",
    "input_train = sequence.pad_sequences(input_train, maxlen = maxlen)\n",
    "input_test = sequence.pad_sequences(input_test, maxlen = maxlen)\n",
    "print(\"input_train shape:\", input_train.shape)\n",
    "print(\"input_test shape:\", input_test.shape)"
   ]
  },
  {
   "cell_type": "code",
   "execution_count": 10,
   "metadata": {},
   "outputs": [
    {
     "name": "stdout",
     "output_type": "stream",
     "text": [
      "WARNING:tensorflow:From C:\\Users\\usaid\\anaconda3\\lib\\site-packages\\keras\\backend\\tensorflow_backend.py:1033: The name tf.assign_add is deprecated. Please use tf.compat.v1.assign_add instead.\n",
      "\n"
     ]
    },
    {
     "name": "stderr",
     "output_type": "stream",
     "text": [
      "WARNING:tensorflow:From C:\\Users\\usaid\\anaconda3\\lib\\site-packages\\keras\\backend\\tensorflow_backend.py:1033: The name tf.assign_add is deprecated. Please use tf.compat.v1.assign_add instead.\n",
      "\n"
     ]
    },
    {
     "name": "stdout",
     "output_type": "stream",
     "text": [
      "Train on 20000 samples, validate on 5000 samples\n",
      "Epoch 1/10\n",
      "20000/20000 [==============================] - 13s 647us/step - loss: 0.5619 - acc: 0.7031 - val_loss: 0.3894 - val_acc: 0.8390\n",
      "Epoch 2/10\n",
      "20000/20000 [==============================] - 13s 641us/step - loss: 0.3569 - acc: 0.8518 - val_loss: 0.4022 - val_acc: 0.8208\n",
      "Epoch 3/10\n",
      "20000/20000 [==============================] - 13s 643us/step - loss: 0.2736 - acc: 0.8926 - val_loss: 0.3723 - val_acc: 0.8472\n",
      "Epoch 4/10\n",
      "20000/20000 [==============================] - 13s 651us/step - loss: 0.2181 - acc: 0.9181 - val_loss: 0.4106 - val_acc: 0.8510\n",
      "Epoch 5/10\n",
      "20000/20000 [==============================] - 13s 643us/step - loss: 0.1776 - acc: 0.9357 - val_loss: 0.4333 - val_acc: 0.8442\n",
      "Epoch 6/10\n",
      "20000/20000 [==============================] - 13s 641us/step - loss: 0.1326 - acc: 0.9530 - val_loss: 0.3829 - val_acc: 0.8574\n",
      "Epoch 7/10\n",
      "20000/20000 [==============================] - 13s 641us/step - loss: 0.0958 - acc: 0.9687 - val_loss: 0.5333 - val_acc: 0.7800\n",
      "Epoch 8/10\n",
      "20000/20000 [==============================] - 13s 645us/step - loss: 0.0647 - acc: 0.9815 - val_loss: 0.4445 - val_acc: 0.8582\n",
      "Epoch 9/10\n",
      "20000/20000 [==============================] - 13s 645us/step - loss: 0.0373 - acc: 0.9892 - val_loss: 0.5118 - val_acc: 0.8478\n",
      "Epoch 10/10\n",
      "20000/20000 [==============================] - 13s 662us/step - loss: 0.0345 - acc: 0.9887 - val_loss: 0.5668 - val_acc: 0.8186\n"
     ]
    }
   ],
   "source": [
    "from keras.layers import Dense\n",
    "from keras.models import Sequential\n",
    "from keras.layers import Embedding, SimpleRNN\n",
    "\n",
    "model = models.Sequential()\n",
    "model.add(Embedding(max_features, 32))\n",
    "model.add(SimpleRNN(32))\n",
    "model.add(Dense(1, activation = \"sigmoid\"))\n",
    "\n",
    "model.compile(optimizer = \"rmsprop\", loss = \"binary_crossentropy\", metrics = [\"acc\"])\n",
    "history = model.fit(input_train, Y_train,\n",
    "                   epochs = 10,\n",
    "                   batch_size = 128,\n",
    "                   validation_split = 0.2)"
   ]
  },
  {
   "cell_type": "code",
   "execution_count": 12,
   "metadata": {},
   "outputs": [
    {
     "data": {
      "image/png": "[encoded data removed]",
      "text/plain": [
       "<Figure size 432x288 with 1 Axes>"
      ]
     },
     "metadata": {
      "needs_background": "light"
     },
     "output_type": "display_data"
    },
    {
     "data": {
      "image/png": "[encoded data removed]",
      "text/plain": [
       "<Figure size 432x288 with 1 Axes>"
      ]
     },
     "metadata": {
      "needs_background": "light"
     },
     "output_type": "display_data"
    }
   ],
   "source": [
    "import matplotlib.pyplot as plt\n",
    "\n",
    "acc = history.history[\"acc\"]\n",
    "val_acc = history.history[\"val_acc\"]\n",
    "loss = history.history[\"loss\"]\n",
    "val_loss = history.history[\"val_loss\"]\n",
    "\n",
    "epochs = range(1, len(acc) + 1)\n",
    "\n",
    "plt.plot(epochs, acc, \"bo\", label = \"Training acc\")\n",
    "plt.plot(epochs, val_acc, \"b\", label = \"Validation acc\")\n",
    "plt.title(\"Training and validation accuracy\")\n",
    "plt.legend()\n",
    "\n",
    "plt.figure()\n",
    "\n",
    "plt.plot(epochs, loss, \"bo\", label = \"Training loss\")\n",
    "plt.plot(epochs, val_loss, \"b\", label = \"Validation loss\")\n",
    "plt.title(\"Training and Validation loss\")\n",
    "plt.legend()\n",
    "\n",
    "plt.show()"
   ]
  },
  {
   "cell_type": "code",
   "execution_count": null,
   "metadata": {},
   "outputs": [],
   "source": []
  }
 ],
 "metadata": {
  "kernelspec": {
   "display_name": "Python 3",
   "language": "python",
   "name": "python3"
  },
  "language_info": {
   "codemirror_mode": {
    "name": "ipython",
    "version": 3
   },
   "file_extension": ".py",
   "mimetype": "text/x-python",
   "name": "python",
   "nbconvert_exporter": "python",
   "pygments_lexer": "ipython3",
   "version": "3.7.6"
  }
 },
 "nbformat": 4,
 "nbformat_minor": 4
}
